{
 "cells": [
  {
   "cell_type": "code",
   "execution_count": 12,
   "metadata": {},
   "outputs": [],
   "source": [
    "# The import name for this library is fitz\n",
    "import fitz\n",
    "from unidecode import unidecode "
   ]
  },
  {
   "cell_type": "code",
   "execution_count": 3,
   "metadata": {},
   "outputs": [],
   "source": [
    "# Create a document object\n",
    "doc = fitz.open('./data/pdf_readers.pdf')  # or fitz.Document(filename)"
   ]
  },
  {
   "cell_type": "code",
   "execution_count": null,
   "metadata": {},
   "outputs": [],
   "source": [
    "# Extract the number of pages (int)\n",
    "print(doc.page_count)\n",
    "print(doc.metadata)\n",
    "\n",
    "# Get the page by their index\n",
    "page = doc.load_page(0)\n",
    " # or page = doc[0]\n",
    "\n",
    "# read a Page\n",
    "text = page.get_text()\n",
    "print(text)"
   ]
  },
  {
   "cell_type": "code",
   "execution_count": 7,
   "metadata": {},
   "outputs": [
    {
     "name": "stdout",
     "output_type": "stream",
     "text": [
      "[{'kind': 2, 'xref': 23, 'from': Rect(103.6500015258789, 208.719970703125, 270.8999938964844, 223.3699951171875), 'uri': 'https://pypi.org/project/PyPDF4/', 'id': ''}, {'kind': 2, 'xref': 24, 'from': Rect(133.35000610351562, 281.9599914550781, 321.4100036621094, 296.6099853515625), 'uri': 'https://pypi.org/project/pdfplumber/', 'id': ''}, {'kind': 2, 'xref': 25, 'from': Rect(119.51000213623047, 325.9100036621094, 284.79998779296875, 340.54998779296875), 'uri': 'https://pymupdf.readthedocs.io/', 'id': ''}, {'kind': 2, 'xref': 26, 'from': Rect(206.64999389648438, 458.739990234375, 372.0, 473.3900146484375), 'uri': 'https://github.com/py-pdf/pypdf', 'id': ''}, {'kind': 2, 'xref': 27, 'from': Rect(206.64999389648438, 561.780029296875, 398.20001220703125, 576.4299926757812), 'uri': 'https://github.com/jsvine/pdfplumber', 'id': ''}, {'kind': 2, 'xref': 28, 'from': Rect(206.64999389648438, 650.1699829101562, 403.8900146484375, 664.8200073242188), 'uri': 'https://github.com/pymupdf/PyMuPDF', 'id': ''}]\n"
     ]
    }
   ],
   "source": [
    "# get all links on a page\n",
    "links = page.get_links()\n",
    "print(links)"
   ]
  },
  {
   "cell_type": "code",
   "execution_count": null,
   "metadata": {},
   "outputs": [],
   "source": [
    "for page in doc:\n",
    "    output = page.get_text(\"blocks\")                   \n",
    "    previous_block_id = 0 # Set a variable to mark the block id\n",
    "\n",
    "    for block in output:\n",
    "        if block[6] == 0: # We only take the text\n",
    "            if previous_block_id != block[5]: # Compare the block number \n",
    "                print(\"\\n\")\n",
    "            print(block[4])"
   ]
  },
  {
   "attachments": {},
   "cell_type": "markdown",
   "metadata": {},
   "source": [
    "### to fix strange symbols (text data with unicode, but we need to represent it in ASCII)"
   ]
  },
  {
   "cell_type": "code",
   "execution_count": 14,
   "metadata": {},
   "outputs": [
    {
     "name": "stdout",
     "output_type": "stream",
     "text": [
      "Sample title \n",
      "\n",
      "\n",
      "\n",
      "  \n",
      "This is a sample PDF file to see how pdf readers are working \n",
      "\n",
      "\n",
      "\n",
      "1. Pypdf \n",
      "2. Pdfplumber \n",
      "3. Pymupdf \n",
      "\n",
      "\n",
      "\n",
      " \n",
      "Pypdf: https://pypi.org/project/PyPDF4/ \n",
      "This is a pure Python library that can be used to read and write PDF files. It can be used to \n",
      "extract text, merge and split PDFs, and encrypt and decrypt PDFs. It is a very popular library and \n",
      " has been around for a long time. \n",
      "pdfplumber: https://pypi.org/project/pdfplumber/ \n",
      " pdfplumber is a Python library that allows for extracting text, images, and tables from PDF files. \n",
      "pymupdf: https://pymupdf.readthedocs.io/ \n",
      "      PyMuPdf is a Python library that allows you to extract text, images, links from PDF files. \n",
      "NAME \n",
      "GITHUB LINK \n",
      "DESC \n",
      "\n",
      "\n",
      "\n",
      "Pypdf \n",
      "https://github.com/py-pdf/pypdf \n",
      " \n",
      "\n",
      "\n",
      "\n",
      "pypdf is a free and open-\n",
      "source pure-python PDF \n",
      "library capable of \n",
      "splitting, merging, \n",
      "cropping, and \n",
      "transforming the pages \n",
      "of PDF files. \n",
      "\n",
      "\n",
      "\n",
      "pdfplumber \n",
      "https://github.com/jsvine/pdfplumber \n",
      " \n",
      "\n",
      "\n",
      "\n",
      "Plumb a PDF for detailed \n",
      "information about each \n",
      "text character, rectangle, \n",
      "and line. Plus: Table \n",
      "extraction and visual \n",
      "debugging. \n",
      "\n",
      "\n",
      "\n",
      "PyMuPDF \n",
      "https://github.com/pymupdf/PyMuPDF \n",
      " \n",
      "\n",
      "\n",
      "\n",
      "PyMuPDF adds Python \n",
      "bindings and \n",
      "abstractions to MuPDF \n",
      "\n",
      "\n",
      "\n",
      " \n",
      "\n",
      "This page is just to show case page 2 with an image \n",
      " \n",
      "\n",
      "\n",
      "\n",
      " \n",
      "\n"
     ]
    }
   ],
   "source": [
    "from unidecode import unidecode \n",
    "\n",
    "output = []\n",
    "\n",
    "for page in doc:\n",
    "    output += page.get_text(\"blocks\")\n",
    "\n",
    "previous_block_id = 0 # Set a variable to mark the block id\n",
    "\n",
    "for block in output:\n",
    "     if block[6] == 0: # We only take the text\n",
    "          if previous_block_id != block[5]: # Compare the block number \n",
    "              print(\"\\n\")\n",
    "          plain_text = unidecode(block[4])\n",
    "          print(plain_text)"
   ]
  },
  {
   "attachments": {},
   "cell_type": "markdown",
   "metadata": {},
   "source": [
    "# PdfPlumber"
   ]
  },
  {
   "cell_type": "code",
   "execution_count": 36,
   "metadata": {},
   "outputs": [],
   "source": [
    "import pdfplumber\n",
    "tables = []\n",
    "\n",
    "with pdfplumber.open('./data/pdf_readers.pdf') as pdf:\n",
    "    # iterate over each page\n",
    "    for page in pdf.pages:\n",
    "        # extract text\n",
    "        tables.append(page.extract_tables())"
   ]
  },
  {
   "cell_type": "code",
   "execution_count": 75,
   "metadata": {},
   "outputs": [
    {
     "name": "stdout",
     "output_type": "stream",
     "text": [
      "{'NAME': ['Pypdf', 'pdfplumber', 'PyMuPDF'], 'GITHUB LINK': ['https://github.com/py-pdf/pypdf', 'https://github.com/jsvine/pdfplumber', 'https://github.com/pymupdf/PyMuPDF'], 'DESC': ['pypdf is a free and open-\\nsource pure-python PDF\\nlibrary capable of\\nsplitting, merging,\\ncropping, and\\ntransforming the pages\\nof PDF files.', 'Plumb a PDF for detailed\\ninformation about each\\ntext character, rectangle,\\nand line. Plus: Table\\nextraction and visual\\ndebugging.', 'PyMuPDF adds Python\\nbindings and\\nabstractions to MuPDF']}\n"
     ]
    }
   ],
   "source": [
    "table = tables[0][0]\n",
    "columns = table[0]\n",
    "\n",
    "table_dict = {}\n",
    "\n",
    "# list all the column names\n",
    "for index, col in enumerate(columns):\n",
    "    table_dict[col] = []\n",
    "\n",
    "# list rows\n",
    "row_index = 1\n",
    "for index, row in enumerate(table):\n",
    "    if index > 0:\n",
    "\n",
    "        for i, col in enumerate(columns):\n",
    "            table_dict[col].append(row[i])\n",
    "\n",
    "print(table_dict)"
   ]
  },
  {
   "cell_type": "code",
   "execution_count": 48,
   "metadata": {},
   "outputs": [
    {
     "name": "stdout",
     "output_type": "stream",
     "text": [
      "[['NAME' 'GITHUB LINK' 'DESC']\n",
      " ['Pypdf' 'https://github.com/py-pdf/pypdf'\n",
      "  'pypdf is a free and open-\\nsource pure-python PDF\\nlibrary capable of\\nsplitting, merging,\\ncropping, and\\ntransforming the pages\\nof PDF files.']\n",
      " ['pdfplumber' 'https://github.com/jsvine/pdfplumber'\n",
      "  'Plumb a PDF for detailed\\ninformation about each\\ntext character, rectangle,\\nand line. Plus: Table\\nextraction and visual\\ndebugging.']\n",
      " ['PyMuPDF' 'https://github.com/pymupdf/PyMuPDF'\n",
      "  'PyMuPDF adds Python\\nbindings and\\nabstractions to MuPDF']]\n",
      "<class 'numpy.ndarray'>\n",
      "{1: 'NAME', 2: 'GITHUB LINK', 3: 'DESC', 4: 'Pypdf', 5: 'https://github.com/py-pdf/pypdf', 6: 'pypdf is a free and open-\\nsource pure-python PDF\\nlibrary capable of\\nsplitting, merging,\\ncropping, and\\ntransforming the pages\\nof PDF files.', 7: 'pdfplumber', 8: 'https://github.com/jsvine/pdfplumber', 9: 'Plumb a PDF for detailed\\ninformation about each\\ntext character, rectangle,\\nand line. Plus: Table\\nextraction and visual\\ndebugging.', 10: 'PyMuPDF', 11: 'https://github.com/pymupdf/PyMuPDF', 12: 'PyMuPDF adds Python\\nbindings and\\nabstractions to MuPDF'}\n",
      "<class 'dict'>\n"
     ]
    }
   ],
   "source": [
    "import numpy as np\n",
    "\n",
    "array = np.array(tables[0][0])\n",
    "# convert numpy array to dictionary\n",
    "d = dict(enumerate(array.flatten(), 1))\n",
    " \n",
    "# print numpy array\n",
    "print(array)\n",
    "print(type(array))\n",
    " \n",
    "# print dictionary\n",
    "print(d)\n",
    "print(type(d))"
   ]
  }
 ],
 "metadata": {
  "kernelspec": {
   "display_name": "env",
   "language": "python",
   "name": "python3"
  },
  "language_info": {
   "codemirror_mode": {
    "name": "ipython",
    "version": 3
   },
   "file_extension": ".py",
   "mimetype": "text/x-python",
   "name": "python",
   "nbconvert_exporter": "python",
   "pygments_lexer": "ipython3",
   "version": "3.9.7"
  },
  "orig_nbformat": 4
 },
 "nbformat": 4,
 "nbformat_minor": 2
}
